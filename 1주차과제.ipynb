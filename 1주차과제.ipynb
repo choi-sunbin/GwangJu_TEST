{
  "nbformat": 4,
  "nbformat_minor": 0,
  "metadata": {
    "colab": {
      "name": "Untitled1.ipynb",
      "provenance": [],
      "collapsed_sections": [],
      "toc_visible": true
    },
    "kernelspec": {
      "name": "python3",
      "display_name": "Python 3"
    }
  },
  "cells": [
    {
      "cell_type": "markdown",
      "metadata": {
        "id": "mPZUxhY3Z8vL",
        "colab_type": "text"
      },
      "source": [
        ""
      ]
    },
    {
      "cell_type": "markdown",
      "metadata": {
        "id": "Zxjqovz0ZzQT",
        "colab_type": "text"
      },
      "source": [
        "##1주차 과제\n",
        "\n",
        "내용 : 인공지능은 현재 많은 제품과 서비스에 적용되어 있습니다. 특히 언어, 음성, 이미지, 자율주행의 분야에서 자주 찾아볼 수 있는데요.\n",
        "시중에 나와있는 다양한 제품들과 서비스 속 적용된 인공지능 기술들에 대해서 분석해 보고 여러분의 흥미를 끄는 기술들은 무엇이 있는지 찾아 보며 여러분 나름의 학습 목표를 세워보시기 바랍니다.\n",
        "\n",
        "앞서 제시해 드린 4가지 분야의 기술을 사용하는 4가지 제품 및 서비스를 찾아 깃헙 마크다운으로 작성하여 url과 여러분의 과제 목차 스크린 캡처를 제출해주세요.\n",
        "\n",
        "1. TPC 메카트로닉스\n",
        "https://www.tpcpage.co.kr/product/sawyer.asp\n",
        "\n",
        "2. 플리토 번역 엔진\n",
        "https://www.etnews.com/20200601000300?mc=ns_002_00002\n",
        "\n",
        "3. 형태소 분석기 - 꼬마\n",
        "http://kkma.snu.ac.kr/\n",
        "\n",
        "4. 멜론 노래 추천의 원리\n",
        "https://brunch.co.kr/@kakao-it/342\n"
      ]
    },
    {
      "cell_type": "markdown",
      "metadata": {
        "id": "hZi6RIJxaKDi",
        "colab_type": "text"
      },
      "source": [
        ""
      ]
    },
    {
      "cell_type": "markdown",
      "metadata": {
        "id": "2oV6RR0zZ51f",
        "colab_type": "text"
      },
      "source": [
        ""
      ]
    },
    {
      "cell_type": "code",
      "metadata": {
        "id": "9JUFIDBsZ6cC",
        "colab_type": "code",
        "colab": {}
      },
      "source": [
        ""
      ],
      "execution_count": 0,
      "outputs": []
    }
  ]
}